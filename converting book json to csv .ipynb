{
 "cells": [
  {
   "cell_type": "code",
   "execution_count": 2,
   "id": "5c77a071",
   "metadata": {},
   "outputs": [],
   "source": [
    "import pandas as pd\n",
    "import gdown\n",
    "import os\n",
    "import gzip\n",
    "import json"
   ]
  },
  {
   "cell_type": "code",
   "execution_count": 9,
   "id": "0baccb65",
   "metadata": {},
   "outputs": [],
   "source": [
    "#book\n",
    "def book_parser(line):\n",
    "  data = {\n",
    "      'isbn': line['isbn'],\n",
    "      'text_reviews_count': line['text_reviews_count'],\n",
    "      'series': line['series'],\n",
    "      'country_code': line['country_code'],\n",
    "      'language_code': line['language_code'],\n",
    "      'popular_shelves': line['popular_shelves'],\n",
    "      'asin': line['asin'],\n",
    "      'is_ebook': line['is_ebook'],\n",
    "      'average_rating': line['average_rating'],\n",
    "      'kindle_asin': line['kindle_asin'],\n",
    "      'similar_books': line['similar_books'],\n",
    "      'description': line['description'],\n",
    "      'format': line['format'],\n",
    "      'link': line['link'],\n",
    "      'authors': line['authors'],\n",
    "      'publisher': line['publisher'],\n",
    "      'num_pages' : line['num_pages'],\n",
    "      'publication_day': line['publication_day'],\n",
    "      'isbn13': line['isbn13'],\n",
    "      'publication_month': line['publication_month'],\n",
    "      'edition_information': line['edition_information'],\n",
    "      'publication_year': line['publication_year'],\n",
    "      'url': line['url'],\n",
    "      'image_url': line['image_url'],\n",
    "      'book_id': line['book_id'],\n",
    "      'ratings_count': line['ratings_count'],\n",
    "      'work_id': line['work_id'],\n",
    "      'title': line['title'],\n",
    "      'title_without_series' : line['title_without_series'],\n",
    "  }\n",
    "  return data\n",
    "\n",
    "\n",
    "def author_parser(line):\n",
    "    data ={\n",
    "        'average_rating': line['average_rating'],\n",
    "        'author_id': line['author_id'],\n",
    "        'text_reviews_count': line['text_reviews_count'],\n",
    "        'name': line['name'],\n",
    "        'ratings_count': line['ratings_count'],\n",
    "    }\n",
    "    return data"
   ]
  },
  {
   "cell_type": "code",
   "execution_count": 10,
   "id": "9465e43a",
   "metadata": {},
   "outputs": [],
   "source": [
    "books = list()\n",
    "with gzip.open('./goodreads_books.json.gz', 'r') as f:\n",
    "  while True:\n",
    "    line = f.readline()\n",
    "    if not line:\n",
    "      break\n",
    "    book = book_parser(json.loads(line))\n",
    "    try:\n",
    "      if int(book['ratings_count'])>15:\n",
    "        books.append(book)\n",
    "    except Exception:\n",
    "      continue    \n",
    "\n",
    "df_books = pd.DataFrame.from_dict(books)\n",
    "df_books.to_csv('df_books.csv.gz', index=False, compression='gzip') "
   ]
  },
  {
   "cell_type": "code",
   "execution_count": 12,
   "id": "997360fa",
   "metadata": {},
   "outputs": [],
   "source": [
    "authors = list()\n",
    "with gzip.open('./goodreads_book_authors.json.gz', 'r') as f:\n",
    "  while True:\n",
    "    line = f.readline()\n",
    "    if not line:\n",
    "      break\n",
    "    author = author_parser(json.loads(line))\n",
    "    authors.append(author)\n",
    "\n",
    "df_authors = pd.DataFrame.from_dict(authors)\n",
    "df_authors.to_csv('df_authors.csv.gz', index=False, compression='gzip')"
   ]
  },
  {
   "cell_type": "code",
   "execution_count": null,
   "id": "a5225a05",
   "metadata": {},
   "outputs": [],
   "source": []
  },
  {
   "cell_type": "code",
   "execution_count": null,
   "id": "0c505660",
   "metadata": {},
   "outputs": [],
   "source": []
  },
  {
   "cell_type": "code",
   "execution_count": null,
   "id": "6e4b205a",
   "metadata": {},
   "outputs": [],
   "source": []
  }
 ],
 "metadata": {
  "kernelspec": {
   "display_name": "Python 3 (ipykernel)",
   "language": "python",
   "name": "python3"
  },
  "language_info": {
   "codemirror_mode": {
    "name": "ipython",
    "version": 3
   },
   "file_extension": ".py",
   "mimetype": "text/x-python",
   "name": "python",
   "nbconvert_exporter": "python",
   "pygments_lexer": "ipython3",
   "version": "3.9.13"
  }
 },
 "nbformat": 4,
 "nbformat_minor": 5
}
